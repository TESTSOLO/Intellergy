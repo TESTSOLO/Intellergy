{
  "cells": [
    {
      "cell_type": "markdown",
      "metadata": {
        "id": "eKAx3OPcfsg5"
      },
      "source": [
        "# Python Fundamentals\n",
        "\n",
        "Python is a very powerful tool for automating tasks that would otherwise be time-consuming or impossible to do by hand or other conventional tools. Here, we'll go over basic ways to use Python to introduce you to a slice of its potential.\n",
        "\n"
      ]
    },
    {
      "cell_type": "markdown",
      "metadata": {
        "id": "nMpCCRG9fsg9"
      },
      "source": [
        "### Question 1.  Do it yourself!  Coding"
      ]
    },
    {
      "cell_type": "code",
      "execution_count": null,
      "metadata": {
        "id": "ZavXplxtfsg-",
        "outputId": "358b37d0-e59d-4adf-dd38-9c2cbefe00cd"
      },
      "outputs": [
        {
          "name": "stdout",
          "output_type": "stream",
          "text": [
            "\n"
          ]
        }
      ],
      "source": [
        "#  INSTRUCTIONS:   Write a message in the quotes.\n",
        "#  type Shift+Enter to run the cell.\n",
        "message = ''\n",
        "\n",
        "print(message)"
      ]
    },
    {
      "cell_type": "markdown",
      "metadata": {
        "id": "6BFmteyzfshA"
      },
      "source": [
        "## Python as a calculator"
      ]
    },
    {
      "cell_type": "markdown",
      "metadata": {
        "id": "6UCCHtfOfshA"
      },
      "source": [
        "An incredibly simple yet pivotal role of Python is to perform math calculations (addition, subtraction, multiplication, etc.). We show how to basic action below.\n",
        "\n",
        "You'll see the symbol `#` used often. These are comments, and they are used to write descriptions. Any characters following `#` are not run or executed."
      ]
    },
    {
      "cell_type": "code",
      "execution_count": null,
      "metadata": {
        "id": "mJz-IAANfshB",
        "outputId": "8becdb3a-2173-4552-cbb8-60ba244e2fd7"
      },
      "outputs": [
        {
          "data": {
            "text/plain": [
              "23"
            ]
          },
          "execution_count": 31,
          "metadata": {},
          "output_type": "execute_result"
        }
      ],
      "source": [
        "3 + 4 * 5  # addition and multiplication"
      ]
    },
    {
      "cell_type": "markdown",
      "metadata": {
        "id": "vWeybyqHfshB"
      },
      "source": [
        "After we run a cell, an output is displayed below.\n",
        "\n",
        "You may have noticed from that example that order of operations mattered for that calculation. You can parentheses too if you want to group calculations"
      ]
    },
    {
      "cell_type": "code",
      "execution_count": null,
      "metadata": {
        "id": "mtn-Rb5AfshC",
        "outputId": "68aff781-2143-484e-c90b-288cd1f370db"
      },
      "outputs": [
        {
          "data": {
            "text/plain": [
              "6.0"
            ]
          },
          "execution_count": 32,
          "metadata": {},
          "output_type": "execute_result"
        }
      ],
      "source": [
        "12 / (6 - 4) # division and substraction"
      ]
    },
    {
      "cell_type": "markdown",
      "metadata": {
        "id": "c7uFEOeGfshC"
      },
      "source": [
        "Exponentiation (e.g. $2^3$) looks a little bit odd in Python as it uses `**` instead of a more traditional `^`."
      ]
    },
    {
      "cell_type": "code",
      "execution_count": null,
      "metadata": {
        "id": "1x9wIeokfshC",
        "outputId": "a9af8560-7d56-4fb5-ebc2-9eef2a6e71c8"
      },
      "outputs": [
        {
          "data": {
            "text/plain": [
              "8"
            ]
          },
          "execution_count": 33,
          "metadata": {},
          "output_type": "execute_result"
        }
      ],
      "source": [
        "2 ** 3 # exponentiation"
      ]
    },
    {
      "cell_type": "markdown",
      "metadata": {
        "id": "9bZzRPzwfshD"
      },
      "source": [
        "#### Question 2: Calculate the following value in Python: $ \\frac{25}{(35 - 3)^3} $"
      ]
    },
    {
      "cell_type": "code",
      "execution_count": null,
      "metadata": {
        "id": "Ujy_5VtlfshD"
      },
      "outputs": [],
      "source": [
        "### Put your answer below:"
      ]
    },
    {
      "cell_type": "markdown",
      "metadata": {
        "id": "MALSb8WpfshD"
      },
      "source": [
        "## Assigning Variables\n",
        "A foundational tool in Python is assigning values to variables. We do this with the `=` operator."
      ]
    },
    {
      "cell_type": "code",
      "execution_count": null,
      "metadata": {
        "id": "zVjL2nv0fshD"
      },
      "outputs": [],
      "source": [
        "x = 50 # x is 50"
      ]
    },
    {
      "cell_type": "markdown",
      "metadata": {
        "id": "Kuh1wsFOfshE"
      },
      "source": [
        "This sets the variable `x` to be 50, an **integer**, or `int`. This value of x is now stored in our notebook, and we can access this value in other cells until the notebook is reset. For instance, subtracting 20 from `x` prints out a value of 30."
      ]
    },
    {
      "cell_type": "code",
      "execution_count": null,
      "metadata": {
        "id": "cw6iw6o2fshE",
        "outputId": "a5e1a6b0-277b-4a5f-a27c-be235f3f600d"
      },
      "outputs": [
        {
          "data": {
            "text/plain": [
              "30"
            ]
          },
          "execution_count": 36,
          "metadata": {},
          "output_type": "execute_result"
        }
      ],
      "source": [
        "# What if I use x again in a different cell?\n",
        "x - 20"
      ]
    },
    {
      "cell_type": "markdown",
      "metadata": {
        "id": "L7Pp7l_cfshE"
      },
      "source": [
        "**Variables persist between cells once they have been run (executed).**"
      ]
    },
    {
      "cell_type": "markdown",
      "metadata": {
        "id": "d9uJqOZKfshE"
      },
      "source": [
        "If we ever want to check the value of any variable, we can use the built-in `print()` command to display the value."
      ]
    },
    {
      "cell_type": "code",
      "execution_count": null,
      "metadata": {
        "id": "4khbjcutfshE",
        "outputId": "c963eae9-5046-4c24-cf3a-bed3ad8bcd9f"
      },
      "outputs": [
        {
          "name": "stdout",
          "output_type": "stream",
          "text": [
            "35\n"
          ]
        }
      ],
      "source": [
        "y = 35\n",
        "print(y)"
      ]
    },
    {
      "cell_type": "markdown",
      "metadata": {
        "id": "F6gnKOTefshE"
      },
      "source": [
        "We can also assign the value of one variable to another variable. If we execute `x = y`, x takes the current value of `y` and assigns that to `x`.\n",
        "\n",
        "*Note: `y` will be unaffected by this assignment. `x = y` should be interpretted as \"let x take the current value of y\".*"
      ]
    },
    {
      "cell_type": "code",
      "execution_count": null,
      "metadata": {
        "id": "d3wTRCs5fshF",
        "outputId": "018bb97b-3918-497e-e3e7-a4476c010f7a"
      },
      "outputs": [
        {
          "name": "stdout",
          "output_type": "stream",
          "text": [
            "35\n",
            "35\n"
          ]
        }
      ],
      "source": [
        "x = y\n",
        "print(x)\n",
        "print(y)"
      ]
    },
    {
      "cell_type": "markdown",
      "metadata": {
        "id": "eF-r3aMgfshF"
      },
      "source": [
        "If we change `y` to be a different value, `x` will be unaffected."
      ]
    },
    {
      "cell_type": "code",
      "execution_count": null,
      "metadata": {
        "id": "pAv2B4AEfshF",
        "outputId": "c49998b8-7667-43ee-e1bc-d1690b89a1e4"
      },
      "outputs": [
        {
          "name": "stdout",
          "output_type": "stream",
          "text": [
            "35\n",
            "3.8\n"
          ]
        }
      ],
      "source": [
        "y = 3.8\n",
        "print(x) # will not always be the same value as y\n",
        "print(y)"
      ]
    },
    {
      "cell_type": "markdown",
      "metadata": {
        "id": "7vTvgsqKfshF"
      },
      "source": [
        "**Basic variables only change value when something is assigned to them.**\n",
        "They are **not** like spreadsheets where a cell can depend on another and update automatically."
      ]
    },
    {
      "cell_type": "markdown",
      "metadata": {
        "id": "YgwcPrmtfshF"
      },
      "source": [
        "### Question 3.  Swapping Values\n",
        "Given the code below, what is the value of the variable `swap` by the end of the block?"
      ]
    },
    {
      "cell_type": "code",
      "execution_count": null,
      "metadata": {
        "id": "VDtoNAbQfshF"
      },
      "outputs": [],
      "source": [
        "x = 1.0\n",
        "y = 3.0\n",
        "swap = x\n",
        "x = y\n",
        "y = swap"
      ]
    },
    {
      "cell_type": "code",
      "execution_count": null,
      "metadata": {
        "id": "vr9OVWJXfshG"
      },
      "outputs": [],
      "source": [
        "print(swap)"
      ]
    },
    {
      "cell_type": "markdown",
      "metadata": {
        "id": "uifsS01yfshG"
      },
      "source": [
        "**What's in a name?** _Variable name conventions_\n",
        "- Use only letters, digits, and underscores _\n",
        "- Start with a letter (typically lower case)\n",
        "- Variable names are case sensitive\n",
        "- Use meaningful names!\n",
        "\n",
        "**Variables must be created before they are used.** Otherwise, Python will throw an error."
      ]
    },
    {
      "cell_type": "code",
      "execution_count": null,
      "metadata": {
        "id": "pcJg7tXnfshG",
        "outputId": "d598ad5b-78ce-4905-ab04-fb48d105a435"
      },
      "outputs": [
        {
          "ename": "NameError",
          "evalue": "name 'z' is not defined",
          "output_type": "error",
          "traceback": [
            "\u001b[0;31m---------------------------------------------------------------------------\u001b[0m",
            "\u001b[0;31mNameError\u001b[0m                                 Traceback (most recent call last)",
            "\u001b[1;32m/Users/fordfishman/GitHub/python/python-session1.ipynb Cell 26'\u001b[0m in \u001b[0;36m<cell line: 1>\u001b[0;34m()\u001b[0m\n\u001b[0;32m----> <a href='vscode-notebook-cell:/Users/fordfishman/GitHub/python/python-session1.ipynb#ch0000020?line=0'>1</a>\u001b[0m \u001b[39mprint\u001b[39m(z)\n",
            "\u001b[0;31mNameError\u001b[0m: name 'z' is not defined"
          ]
        }
      ],
      "source": [
        "print(z) # we haven't initialized z yet!"
      ]
    },
    {
      "cell_type": "markdown",
      "metadata": {
        "id": "DKJYNmi1fshG"
      },
      "source": [
        "In the following example, we specify a value for a variable after we print it. This will not work. Within a cell, the statements are executed from top to bottom. If the Python interpreter finds an error, execution stops."
      ]
    },
    {
      "cell_type": "code",
      "execution_count": null,
      "metadata": {
        "id": "l9CGAA9afshG"
      },
      "outputs": [],
      "source": [
        "print(last_name) # last name does not exist yet\n",
        "# What happens if I try to correct my error in the same cell?\n",
        "last_name='Montoya'\n",
        "print(last_name)"
      ]
    },
    {
      "cell_type": "markdown",
      "metadata": {
        "id": "X-UqfI95fshG"
      },
      "source": [
        "If we want to increase a value of a variable by a certain, we can use the `+=` operator. Here, we add 2 to the current value of x."
      ]
    },
    {
      "cell_type": "code",
      "execution_count": null,
      "metadata": {
        "id": "I-bcnBQFfshH",
        "outputId": "8e301d69-73f8-4e53-e7af-65c43472e8a3"
      },
      "outputs": [
        {
          "name": "stdout",
          "output_type": "stream",
          "text": [
            "35\n",
            "37\n"
          ]
        }
      ],
      "source": [
        "print(x) # before incrementing\n",
        "x += 2\n",
        "print(x) # after incrementing"
      ]
    },
    {
      "cell_type": "markdown",
      "metadata": {
        "id": "JaV1CpvyfshH"
      },
      "source": [
        "This is equivalent to running `x = x + 2`. We can also do similar operations with subtraction, multiplication, and division."
      ]
    },
    {
      "cell_type": "code",
      "execution_count": null,
      "metadata": {
        "id": "qYIvMNY0fshH",
        "outputId": "d9669553-b375-4331-883d-a788d3f8995b"
      },
      "outputs": [
        {
          "name": "stdout",
          "output_type": "stream",
          "text": [
            "subtraction: 6\n",
            "multiplication: 24\n",
            "division: 4.0\n"
          ]
        }
      ],
      "source": [
        "x = 8\n",
        "x -= 2 # 8 - 2\n",
        "print(\"subtraction:\", x)\n",
        "x *= 4 # 6 * 4\n",
        "print(\"multiplication:\", x)\n",
        "x /= 6 # 24 / 6\n",
        "print(\"division:\", x)\n"
      ]
    },
    {
      "cell_type": "markdown",
      "metadata": {
        "id": "0v3ZpuB-fshH"
      },
      "source": [
        "#### Question 4: `a` has been initialized to be 25. Assign variable `b` to be 5 less than `a` without using `b = 20`. Print the value of b.\n"
      ]
    },
    {
      "cell_type": "code",
      "execution_count": null,
      "metadata": {
        "id": "MFbz0R3DfshH"
      },
      "outputs": [],
      "source": [
        "a = 25\n",
        "# write your code here:"
      ]
    },
    {
      "cell_type": "markdown",
      "metadata": {
        "id": "sRBiPyU7fshI"
      },
      "source": [
        "## Strings\n",
        "\n",
        "So far, we have only assigned integer values to variables. We can also assign values characters to variables. These are called **strings**. You can specify a string by putting text within either single quotation (`'single'`) or double quotation marks (`\"double\"`)."
      ]
    },
    {
      "cell_type": "code",
      "execution_count": null,
      "metadata": {
        "id": "I0ZbcrpMfshI",
        "outputId": "e3903b07-839e-4ae5-a06a-482a8390fef7"
      },
      "outputs": [
        {
          "name": "stdout",
          "output_type": "stream",
          "text": [
            "Inigo Montoya\n"
          ]
        }
      ],
      "source": [
        "my_name = \"Inigo Montoya\"\n",
        "print(my_name)"
      ]
    },
    {
      "cell_type": "markdown",
      "metadata": {
        "id": "FDs1osVNfshN"
      },
      "source": [
        "We can print out a string directly in `print()`, as well."
      ]
    },
    {
      "cell_type": "code",
      "execution_count": null,
      "metadata": {
        "id": "U9Y50lAlfshN",
        "outputId": "7e1f92a9-5503-4754-90b8-7eb627261a67"
      },
      "outputs": [
        {
          "name": "stdout",
          "output_type": "stream",
          "text": [
            "My name is\n",
            "Inigo Montoya\n"
          ]
        }
      ],
      "source": [
        "print(\"My name is\")\n",
        "print(my_name) # will print on a second line"
      ]
    },
    {
      "cell_type": "markdown",
      "metadata": {
        "id": "fBPeTroxfshN"
      },
      "source": [
        "We can also print out multiple values in a single `print()` statement."
      ]
    },
    {
      "cell_type": "code",
      "execution_count": null,
      "metadata": {
        "id": "4UtoUzuBfshN",
        "outputId": "4608e826-faba-413a-986b-36a514f3dd1d"
      },
      "outputs": [
        {
          "name": "stdout",
          "output_type": "stream",
          "text": [
            "My name is Inigo Montoya\n"
          ]
        }
      ],
      "source": [
        "print(\"My name is\", my_name) # print() adds a space between the values"
      ]
    },
    {
      "cell_type": "markdown",
      "metadata": {
        "id": "Qeyi0EjtfshN"
      },
      "source": [
        "If we print out a string with an integer variable, it will convert the integer to a string in order to print it."
      ]
    },
    {
      "cell_type": "code",
      "execution_count": null,
      "metadata": {
        "id": "d-rjR6ZwfshO",
        "outputId": "c684193d-ef73-4488-981c-ebc673e0b366"
      },
      "outputs": [
        {
          "name": "stdout",
          "output_type": "stream",
          "text": [
            "I would like 25 balloons.\n"
          ]
        }
      ],
      "source": [
        "num_balloons = 25\n",
        "print(\"I would like\", num_balloons, \"balloons.\")"
      ]
    },
    {
      "cell_type": "markdown",
      "metadata": {
        "id": "h8Y9mRuZfshO"
      },
      "source": [
        "#### Question 5: What will happen if you run this code?"
      ]
    },
    {
      "cell_type": "code",
      "execution_count": null,
      "metadata": {
        "id": "y9LygW7-fshO",
        "outputId": "092c4234-62b8-4723-bf05-f015de3916e8"
      },
      "outputs": [
        {
          "ename": "NameError",
          "evalue": "name 'Montoya' is not defined",
          "output_type": "error",
          "traceback": [
            "\u001b[0;31m---------------------------------------------------------------------------\u001b[0m",
            "\u001b[0;31mNameError\u001b[0m                                 Traceback (most recent call last)",
            "\u001b[1;32m/Users/fordfishman/GitHub/python/python-session1.ipynb Cell 40'\u001b[0m in \u001b[0;36m<cell line: 1>\u001b[0;34m()\u001b[0m\n\u001b[0;32m----> <a href='vscode-notebook-cell:/Users/fordfishman/GitHub/python/python-session1.ipynb#ch0000037?line=0'>1</a>\u001b[0m last_name \u001b[39m=\u001b[39m Montoya\n\u001b[1;32m      <a href='vscode-notebook-cell:/Users/fordfishman/GitHub/python/python-session1.ipynb#ch0000037?line=1'>2</a>\u001b[0m \u001b[39mprint\u001b[39m(last_name)\n",
            "\u001b[0;31mNameError\u001b[0m: name 'Montoya' is not defined"
          ]
        }
      ],
      "source": [
        "last_name = Montoya\n",
        "print(last_name)"
      ]
    },
    {
      "cell_type": "markdown",
      "metadata": {
        "id": "VnBcahfmfshO"
      },
      "source": [
        "## Data Types:\n",
        "- integers (`int`) represent positive or negative whole numbers like 3 or -512\n",
        "- floating point numbers (`float`) represent real numbers like 3.14159 or -2.5\n",
        "- character strings (`str`) are text\n",
        "   - written with single or double quotes (matching)\n",
        "   - quotations aren't printed when the string is displayed"
      ]
    },
    {
      "cell_type": "code",
      "execution_count": null,
      "metadata": {
        "id": "_OEoPZtRfshP",
        "outputId": "106f6da8-be3a-4cd7-c216-d10995a50812"
      },
      "outputs": [
        {
          "name": "stdout",
          "output_type": "stream",
          "text": [
            "<class 'int'>\n",
            "<class 'int'>\n",
            "<class 'str'>\n",
            "<class 'float'>\n"
          ]
        }
      ],
      "source": [
        "# Find the type with function type()\n",
        "print(type(52))\n",
        "print(type(\"Inigo Montoya\"))\n",
        "print(type(3.14))\n",
        "\n",
        "# notice we are nesting functions -> type() is inside of print()"
      ]
    },
    {
      "cell_type": "markdown",
      "metadata": {
        "id": "3Ww6Tv-2fshP"
      },
      "source": [
        "### Combining and adding data types"
      ]
    },
    {
      "cell_type": "markdown",
      "metadata": {
        "id": "Xj3uu0Q2fshP"
      },
      "source": [
        "The `+` operator concatenates (adds) strings together. However if you try to add an integer and a string, you will receive an error."
      ]
    },
    {
      "cell_type": "code",
      "execution_count": null,
      "metadata": {
        "id": "2jSlJbOffshP",
        "outputId": "91e3aae7-380c-4aba-8081-09167c6fb5b2"
      },
      "outputs": [
        {
          "name": "stdout",
          "output_type": "stream",
          "text": [
            "several concatenated strings\n"
          ]
        }
      ],
      "source": [
        "print(\"several\" + \" concatenated\" + \" strings\") # need to manually add spaces when concatenating"
      ]
    },
    {
      "cell_type": "code",
      "execution_count": null,
      "metadata": {
        "id": "lZPTMhhbfshQ",
        "outputId": "51183e1b-9556-4a1c-9f07-cce099eb1d6c"
      },
      "outputs": [
        {
          "ename": "TypeError",
          "evalue": "unsupported operand type(s) for +: 'int' and 'str'",
          "output_type": "error",
          "traceback": [
            "\u001b[0;31m---------------------------------------------------------------------------\u001b[0m",
            "\u001b[0;31mTypeError\u001b[0m                                 Traceback (most recent call last)",
            "\u001b[1;32m/Users/fordfishman/GitHub/python/python-session1.ipynb Cell 17'\u001b[0m in \u001b[0;36m<cell line: 1>\u001b[0;34m()\u001b[0m\n\u001b[0;32m----> <a href='vscode-notebook-cell:/Users/fordfishman/GitHub/python/python-session1.ipynb#ch0000016?line=0'>1</a>\u001b[0m \u001b[39mprint\u001b[39m(\u001b[39m1\u001b[39;49m \u001b[39m+\u001b[39;49m \u001b[39m\"\u001b[39;49m\u001b[39m hat\u001b[39;49m\u001b[39m\"\u001b[39;49m)\n",
            "\u001b[0;31mTypeError\u001b[0m: unsupported operand type(s) for +: 'int' and 'str'"
          ]
        }
      ],
      "source": [
        "print(1 + \"2\") # adding string to int doesn't work"
      ]
    },
    {
      "cell_type": "markdown",
      "metadata": {
        "id": "tusikyltfshQ"
      },
      "source": [
        "We can convert an `int` to a `string` with the `str()` function to combine them. We must convert numbers to strings or vice versa when operating on them. Consistency is key!"
      ]
    },
    {
      "cell_type": "code",
      "execution_count": null,
      "metadata": {
        "id": "8ZmWbQhZfshQ",
        "outputId": "79fa417e-c231-4b11-9cd8-204bb555b36f"
      },
      "outputs": [
        {
          "name": "stdout",
          "output_type": "stream",
          "text": [
            "3\n",
            "12\n"
          ]
        }
      ],
      "source": [
        "print(1+int('2')) # convert string to int to do addition\n",
        "print(str(1)+'2') # convert int to string to concatenate"
      ]
    },
    {
      "cell_type": "markdown",
      "metadata": {
        "id": "SPYprLj5fshQ"
      },
      "source": [
        "However, we can mix integers and floats freely in operations. This will result in the final value being a float."
      ]
    },
    {
      "cell_type": "code",
      "execution_count": null,
      "metadata": {
        "id": "zyF-yyE_fshQ",
        "outputId": "f36746d8-b8e5-4f75-bb88-cdb63dc56461"
      },
      "outputs": [
        {
          "name": "stdout",
          "output_type": "stream",
          "text": [
            "half is 0.5\n",
            "three squared is 9.0\n"
          ]
        }
      ],
      "source": [
        "print('half is', 1/2.0\n",
        "print('three squared is', 3.0 ** 2)"
      ]
    },
    {
      "cell_type": "markdown",
      "metadata": {
        "id": "kIAdmZv4fshQ"
      },
      "source": [
        "### Length\n",
        "Strings have length (how many characters long they are), which can find with `len()`. Floats and ints do not have length."
      ]
    },
    {
      "cell_type": "code",
      "execution_count": null,
      "metadata": {
        "id": "8Nhy_iPWfshR",
        "outputId": "867a3b7b-fd30-4d80-d48d-271c620923d2"
      },
      "outputs": [
        {
          "name": "stdout",
          "output_type": "stream",
          "text": [
            "13\n"
          ]
        }
      ],
      "source": [
        "print( len(\"a long string\") ) # spaces count in length"
      ]
    },
    {
      "cell_type": "code",
      "execution_count": null,
      "metadata": {
        "id": "sg6xF1q4fshR"
      },
      "outputs": [],
      "source": [
        "print( len(3.1415) ) # will get n error"
      ]
    },
    {
      "cell_type": "markdown",
      "metadata": {
        "id": "kdUCN6ogfshR"
      },
      "source": [
        "### Division Types with numbers\n",
        "- `//` operator performs integer floor division (rounds down to nearest integer)\n",
        "- `/` operator performs floating point division (returns a number with a decimal point)\n",
        "- `%` modulo operator returns the remainder from integer division"
      ]
    },
    {
      "cell_type": "code",
      "execution_count": null,
      "metadata": {
        "id": "MqfxGIW1fshR",
        "outputId": "8815b57b-0633-46c7-efdb-36241d5f5f3d"
      },
      "outputs": [
        {
          "name": "stdout",
          "output_type": "stream",
          "text": [
            "1\n",
            "1.6666666666666667\n",
            "2\n"
          ]
        }
      ],
      "source": [
        "print(5//3)\n",
        "print(5/3)\n",
        "print(5%3)"
      ]
    },
    {
      "cell_type": "markdown",
      "metadata": {
        "id": "8jPBufYpfshR"
      },
      "source": [
        "### Question 6:\n",
        "Choose a type (int, float, str) that each of these descriptions should be:\n",
        "- Time elapsed from the start of the year until now in days.\n",
        "- Serial code of a piece of lab equipment\n",
        "- A lab specimen's age\n"
      ]
    },
    {
      "cell_type": "markdown",
      "metadata": {
        "id": "RdBy3B9efshR"
      },
      "source": [
        "### Question 7: Quadratic formula\n",
        "\n",
        "A quadratic equation has the following form:\n",
        "\n",
        "$$0 = ax^2 + bx + c$$\n",
        "\n",
        "We can use the quadratic forumula (below) to find the roots of a quadratic equation.\n",
        "\n",
        "$$x = \\frac{-b\\pm\\sqrt{b^2-4ac}}{2a}$$\n",
        "\n",
        "Create variables $a$, $b$, and $c$ with the value of $4$, $-25$, and $20$, respectively.\n",
        "\n",
        "Calculate the values of $x$ for a quadratic equation with $a=4$, $b=-25$, and $c = 20$. Remember to calculate the values for both plus and minus ($\\pm$).\n",
        "\n"
      ]
    },
    {
      "cell_type": "code",
      "execution_count": null,
      "metadata": {
        "id": "DO-tZxX0fshS"
      },
      "outputs": [],
      "source": [
        "# your code below:"
      ]
    },
    {
      "cell_type": "markdown",
      "metadata": {
        "id": "kpxfKogWfshS"
      },
      "source": [
        "### Question 8"
      ]
    },
    {
      "cell_type": "code",
      "execution_count": null,
      "metadata": {
        "id": "IiZcJVgufshS"
      },
      "outputs": [],
      "source": [
        "first  = 1.0\n",
        "second = \"1\"\n",
        "third  = \"1.1\""
      ]
    },
    {
      "cell_type": "markdown",
      "metadata": {
        "id": "Frnfaci7fshS"
      },
      "source": [
        "Which of the following will return the floating point number `2.0`?"
      ]
    },
    {
      "cell_type": "code",
      "execution_count": null,
      "metadata": {
        "id": "XUTywoW6fshS",
        "outputId": "be7ea688-9bb3-41f4-a406-41b266d0b2c3"
      },
      "outputs": [
        {
          "data": {
            "text/plain": [
              "2.0"
            ]
          },
          "execution_count": 65,
          "metadata": {},
          "output_type": "execute_result"
        }
      ],
      "source": [
        "# first + float(second)          # choice a\n",
        "# float(second) + float(third)   # choice b\n",
        "# first + int(third)             # choice c\n",
        "# first + int(float(third))      # choice d\n",
        "# int(first) + int(float(third)) # choice e\n",
        "# 2.0 * second                   # choice f"
      ]
    },
    {
      "cell_type": "markdown",
      "metadata": {
        "id": "nVQHHPhmfshS"
      },
      "source": [
        "Follow along with materials and sessions at <a href=\"https://deisdata.github.io\">https://deisdata.github.io</a>.\n",
        "\n",
        "**Reference and Resource**\n",
        "\n",
        "This lesson is adapted from\n",
        "<a href='http://swcarpentry.github.io/python-novice-gapminder/design/'>Software Carpentry.</a>"
      ]
    }
  ],
  "metadata": {
    "kernelspec": {
      "display_name": "Python 3.9.12 ('workshop')",
      "language": "python",
      "name": "python3"
    },
    "language_info": {
      "codemirror_mode": {
        "name": "ipython",
        "version": 3
      },
      "file_extension": ".py",
      "mimetype": "text/x-python",
      "name": "python",
      "nbconvert_exporter": "python",
      "pygments_lexer": "ipython3",
      "version": "3.9.12"
    },
    "vscode": {
      "interpreter": {
        "hash": "5e5670abb08844f1af3bbc7bb9ef8e3b4ef400ad7b254432ac9e559b82ca9501"
      }
    },
    "colab": {
      "provenance": []
    }
  },
  "nbformat": 4,
  "nbformat_minor": 0
}